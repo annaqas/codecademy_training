{
  "nbformat": 4,
  "nbformat_minor": 0,
  "metadata": {
    "colab": {
      "name": "product_defects_poisson_probability.ipynb",
      "provenance": [],
      "authorship_tag": "ABX9TyOoxSlLUSX9JurxPiVQwCAX",
      "include_colab_link": true
    },
    "kernelspec": {
      "name": "python3",
      "display_name": "Python 3"
    },
    "language_info": {
      "name": "python"
    }
  },
  "cells": [
    {
      "cell_type": "markdown",
      "metadata": {
        "id": "view-in-github",
        "colab_type": "text"
      },
      "source": [
        "<a href=\"https://colab.research.google.com/github/annaqas/projects_codecademy/blob/main/product_defects_poisson_probability.ipynb\" target=\"_parent\"><img src=\"https://colab.research.google.com/assets/colab-badge.svg\" alt=\"Open In Colab\"/></a>"
      ]
    },
    {
      "cell_type": "code",
      "execution_count": null,
      "metadata": {
        "id": "LNaKaElSfG9r"
      },
      "outputs": [],
      "source": [
        "import scipy.stats as stats\n",
        "import numpy as np\n",
        "\n",
        "### Task Group 1 ###\n",
        "## Task 1: Create a variable called lam that represents the rate parameter of our distribution.\n",
        "lam = 7\n",
        "## Task 2: Calculate and print the probability of observing exactly lam defects on a given day.\n",
        "print(stats.poisson.pmf(lam, lam))\n",
        "## Task 3: Our boss said that having 4 or fewer defects on a given day is an exceptionally good day. You are curious about how often that might happen. \n",
        "#Calculate and print the probability of having one of these days.\n",
        "print(stats.poisson.cdf(4,lam))\n",
        "## Task 4: On the other hand, our boss said that having more than 9 defects on any given day is considered a bad day.\n",
        "#Calculate and print the probability of having one of these bad days.\n",
        "print(1 - stats.poisson.cdf(9, lam))\n",
        "\n",
        "### Task Group 2 ###\n",
        "## Task 5: Create a variable called year_defects that has 365 random values from the Poisson distribution.\n",
        "year_defects = stats.poisson.rvs(lam, size = 365)\n",
        "## Task 6: Let’s take a look at our new dataset. Print the first 20 values in this data set.\n",
        "print(year_defects[0:20])\n",
        "## Task 7: If we expect 7 defects on a given day, what is the total number of defects we would expect over 365 days?\n",
        "#Calculate and print this value to the output terminal.\n",
        "print(lam*365)\n",
        "## Task 8: Calculate and print the total sum of the data set year_defects. How does this compare to the total number of defects we expected over 365 days?\n",
        "print(sum(year_defects))\n",
        "## Task 9: Calculate and print the average number of defects per day from our simulated dataset.\n",
        "#How does this compare to the expected average number of defects each day that we know from the given rate parameter of the Poisson distribution?\n",
        "print(np.mean(year_defects))\n",
        "## Task 10: You’re worried about what the highest amount of defects in a single day might be because that would be a hectic day.\n",
        "#Print the maximum value of year_defects.\n",
        "print(year_defects.max())\n",
        "## Task 11: Wow, it would probably be super busy if there were that many defects on a single day. Hopefully, it is a rare event!\n",
        "#Calculate and print the probability of observing that maximum value or more from the Poisson(7) distribution.\n",
        "print(1 - stats.poisson.cdf(year_defects.max(), lam))\n"
      ]
    },
    {
      "cell_type": "markdown",
      "source": [
        "Let’s say we want to know how many defects in a given day would put us in the 90th percentile of the Poisson(7) distribution. One way we could calculate this is by using the following method:\n",
        "\n",
        "stats.poisson.ppf(percentile, lambda) \n",
        "percentile is equal to the desired percentile (a decimal between 0 and 1), and lambda is the lambda parameter of the Poisson distribution. This function is essentially the inverse of the CDF.\n",
        "\n",
        "Use this method to calculate and print the number of defects that would put us in the 90th percentile for a given day. In other words, on 90% of days, we will observe fewer defects than this number."
      ],
      "metadata": {
        "id": "9L2M1z7hgIEv"
      }
    },
    {
      "cell_type": "code",
      "source": [
        "### Extra Bonus ###\n",
        "# Task 12\n",
        "print(stats.poisson.ppf(0.9, lam))"
      ],
      "metadata": {
        "id": "gKPA6iIEgK_D"
      },
      "execution_count": null,
      "outputs": []
    },
    {
      "cell_type": "markdown",
      "source": [
        "Now let’s see what proportion of our simulated dataset year_defects is greater than or equal to the number we calculated in the previous step.\n",
        "\n",
        "By definition of a percentile, we would expect 1 - .90, or about 10% of days to be in this range.\n",
        "\n",
        "To calculate this:\n",
        "\n",
        "Count the number of values in the dataset that are greater than or equal to the 90th percentile value.\n",
        "Divide this number by the length of the dataset."
      ],
      "metadata": {
        "id": "vAif41y2gT5R"
      }
    },
    {
      "cell_type": "code",
      "source": [
        "# Task 13\n",
        "print(sum(year_defects >=10)/len(year_defects))"
      ],
      "metadata": {
        "id": "BMJgL2ijgW89"
      },
      "execution_count": null,
      "outputs": []
    }
  ]
}