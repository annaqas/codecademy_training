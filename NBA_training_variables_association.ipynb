{
  "nbformat": 4,
  "nbformat_minor": 0,
  "metadata": {
    "colab": {
      "name": "NBA_training_variables_association.ipynb",
      "provenance": [],
      "authorship_tag": "ABX9TyMmb9GxMtdfWXs9RA9e3dPI",
      "include_colab_link": true
    },
    "kernelspec": {
      "name": "python3",
      "display_name": "Python 3"
    },
    "language_info": {
      "name": "python"
    }
  },
  "cells": [
    {
      "cell_type": "markdown",
      "metadata": {
        "id": "view-in-github",
        "colab_type": "text"
      },
      "source": [
        "<a href=\"https://colab.research.google.com/github/annaqas/projects_codecademy/blob/main/NBA_training_variables_association.ipynb\" target=\"_parent\"><img src=\"https://colab.research.google.com/assets/colab-badge.svg\" alt=\"Open In Colab\"/></a>"
      ]
    },
    {
      "cell_type": "markdown",
      "source": [
        "In this project, you’ll analyze data from the NBA (National Basketball Association) and explore possible associations.\n",
        "\n",
        "This data was originally sourced from 538’s Analysis of the Complete History Of The NBA and contains the original, unmodified data from Basketball Reference as well as several additional variables 538 added to perform their own analysis.\n",
        "\n",
        "You can read more about the data and how it’s being used by 538 here. For this project we’ve limited the data to just 5 teams and 10 columns (plus one constructed column, point_diff, the difference between pts and opp_pts).\n",
        "\n",
        "You will create several charts and tables in this project, so you’ll need to use plt.clf() between plots in your code so that the plots don’t layer on top of one another."
      ],
      "metadata": {
        "id": "950IWxS9ySJe"
      }
    },
    {
      "cell_type": "code",
      "execution_count": null,
      "metadata": {
        "id": "VnRqumaMyNhQ"
      },
      "outputs": [],
      "source": [
        "import numpy as np\n",
        "import pandas as pd\n",
        "from scipy.stats import pearsonr, chi2_contingency\n",
        "import matplotlib.pyplot as plt\n",
        "import seaborn as sns\n",
        "\n",
        "import codecademylib3\n",
        "np.set_printoptions(suppress=True, precision = 2)\n",
        "\n",
        "nba = pd.read_csv('./nba_games.csv')\n",
        "\n",
        "# Subset Data to 2010 Season, 2014 Season\n",
        "nba_2010 = nba[nba.year_id == 2010]\n",
        "nba_2014 = nba[nba.year_id == 2014]\n",
        "\n",
        "print(nba_2010.head())\n",
        "print(nba_2014.head())"
      ]
    },
    {
      "cell_type": "markdown",
      "source": [
        "Suppose you want to compare the knicks to the nets with respect to points earned per game. Using the pts column from the nba_2010 DataFrame, create two series named knicks_pts (fran_id = \"Knicks\") and nets_pts(fran_id = \"Nets\") that represent the points each team has scored in their games.\n",
        "\n",
        "Calculate the difference between the two teams’ average points scored and save the result as diff_means_2010. Based on this value, do you think fran_id and pts are associated? Why or why not?"
      ],
      "metadata": {
        "id": "d09SP3dLyXyy"
      }
    },
    {
      "cell_type": "code",
      "source": [
        "knicks_pts_2010 = nba_2010.pts[nba_2010.fran_id == 'Knicks']\n",
        "nets_pts_2010 = nba_2010.pts[nba_2010.fran_id == 'Nets']\n",
        "\n",
        "knicks_pts_mean_2010 = np.mean(knicks_pts_2010)\n",
        "nets_pts_mean_2010 = np.mean(nets_pts_2010)\n",
        "print(knicks_pts_mean_2010)\n",
        "print(nets_pts_mean_2010)\n",
        "diff_means_2010 = knicks_pts_mean_2010 - nets_pts_mean_2010\n",
        "print(diff_means_2010)"
      ],
      "metadata": {
        "id": "uGRqqZgCyjGW"
      },
      "execution_count": null,
      "outputs": []
    },
    {
      "cell_type": "markdown",
      "source": [
        "Rather than comparing means, it’s useful look at the full distribution of values to understand whether a difference in means is meaningful. Create a set of overlapping histograms that can be used to compare the points scored for the Knicks compared to the Nets. Use the series you created in the previous step (1) and the code below to create the plot. Do the distributions appear to be the same?"
      ],
      "metadata": {
        "id": "j-lDSn7p2M6s"
      }
    },
    {
      "cell_type": "code",
      "source": [
        "plt.hist(knicks_pts_2010, color = 'blue', label = 'Knicks', normed=True, alpha=0.5)\n",
        "plt.hist(nets_pts_2010, color = 'red', label = 'Nets', normed=True, alpha=0.5)\n",
        "plt.show()"
      ],
      "metadata": {
        "id": "IaJ-Q6sc2QvV"
      },
      "execution_count": null,
      "outputs": []
    },
    {
      "cell_type": "markdown",
      "source": [
        "Now, let’s compare the 2010 games to 2014. Replicate the steps from the previous three exercises using nba_2014. First, calculate the mean difference between the two teams points scored. Save and print the value as diff_means_2014. Did the difference in points get larger or smaller in 2014? Then, plot the overlapping histograms. Does the mean difference you calculated make sense?"
      ],
      "metadata": {
        "id": "sjSupL832TRd"
      }
    },
    {
      "cell_type": "code",
      "source": [
        "knicks_pts_2014 = nba_2014.pts[nba_2014.fran_id == 'Knicks']\n",
        "nets_pts_2014 = nba_2014.pts[nba_2014.fran_id == 'Nets']\n",
        "\n",
        "knicks_pts_mean_2014 = np.mean(knicks_pts_2014)\n",
        "nets_pts_mean_2014 = np.mean(nets_pts_2014)\n",
        "print(knicks_pts_mean_2014)\n",
        "print(nets_pts_mean_2014)\n",
        "diff_means_2014 = knicks_pts_mean_2014 - nets_pts_mean_2014\n",
        "print(diff_means_2014)\n",
        "\n",
        "plt.clf()\n",
        "plt.hist(knicks_pts_2014, color = 'blue', label = 'Knicks', normed=True, alpha=0.5)\n",
        "plt.hist(nets_pts_2014, color = 'red', label = 'Nets', normed=True, alpha=0.5)\n",
        "plt.show()"
      ],
      "metadata": {
        "id": "J-aMyOJS2Ync"
      },
      "execution_count": null,
      "outputs": []
    },
    {
      "cell_type": "markdown",
      "source": [
        "Using nba_2010, generate side-by-side boxplots with points scored (pts) on the y-axis and team (fran_id) on the x-axis. Is there any overlap between the boxes? Does this chart suggest that fran_id and pts are associated? Which pairs of teams, if any, earn different average scores per game?"
      ],
      "metadata": {
        "id": "5XL78x89P3vA"
      }
    },
    {
      "cell_type": "code",
      "source": [
        "plt.clf()\n",
        "sns.boxplot(data = nba_2010, x = 'fran_id', y = 'pts')\n",
        "plt.show()"
      ],
      "metadata": {
        "id": "ql4O2I4cP44-"
      },
      "execution_count": null,
      "outputs": []
    },
    {
      "cell_type": "markdown",
      "source": [
        "The variable game_result indicates whether a team won a particular game ('W' stands for “win” and 'L' stands for “loss”). The variable game_location indicates whether a team was playing at home or away ('H' stands for “home” and 'A' stands for “away”). Do teams tend to win more games at home compared to away?\n",
        "\n",
        "Data scientists will often calculate a contingency table of frequencies to help them determine if categorical variables are associated. Calculate a table of frequencies that shows the counts of game_result and game_location.\n",
        "\n",
        "Save your result as location_result_freq and print your result. Based on this table, do you think the variables are associated?\n",
        "\n",
        "Convert this table of frequencies to a table of proportions and save the result as location_result_proportions. Print your result."
      ],
      "metadata": {
        "id": "M06CIlFbQmVG"
      }
    },
    {
      "cell_type": "code",
      "source": [
        "location_result_freq = pd.crosstab(nba_2010.game_location, nba_2010.game_result)\n",
        "print(location_result_freq)\n",
        "\n",
        "#output\n",
        "#game_result      L    W\n",
        "#game_location          \n",
        "#A              133   92\n",
        "#H              105  120\n",
        "\n",
        "location_result_prop = location_result_freq / len(nba_2010)\n",
        "print(location_result_prop)"
      ],
      "metadata": {
        "id": "rD6r0iiNQnVY"
      },
      "execution_count": null,
      "outputs": []
    },
    {
      "cell_type": "markdown",
      "source": [
        "Using the contingency table created in the previous exercise (Ex. 7), calculate the expected contingency table (if there were no association) and the Chi-Square statistic and print your results. Does the actual contingency table look similar to the expected table — or different? Based on this output, do you think there is an association between these variables?"
      ],
      "metadata": {
        "id": "sUigWebOQpvq"
      }
    },
    {
      "cell_type": "code",
      "source": [
        "chi2, pval, dof, expected = chi2_contingency(location_result_freq)\n",
        "print(np.round(expected))\n",
        "print(chi2)\n",
        "#output - chi2 = 6.502"
      ],
      "metadata": {
        "id": "3vRyAMMzRSXw"
      },
      "execution_count": null,
      "outputs": []
    },
    {
      "cell_type": "markdown",
      "source": [
        "For each game, 538 has calculated the probability that each team will win the game. In the data, this is saved as forecast. The point_diff column gives the margin of victory/defeat for each team (positive values mean that the team won; negative values mean that they lost). Did teams with a higher probability of winning (according to 538) also tend to win games by more points?\n",
        "\n",
        "Using nba_2010, calculate the covariance between forecast (538’s projected win probability) and point_diff (the margin of victory/defeat) in the dataset. Save and print your result. Looking at the matrix, what is the covariance between these two variables?\n",
        "\n",
        "Calculate the correlation between forecast and point_diff. Save and print your result. Does this value suggest an association between the two variables?\n",
        "\n",
        "Generate a scatter plot of forecast (on the x-axis) and point_diff (on the y-axis). Does the correlation value make sense?"
      ],
      "metadata": {
        "id": "lbL5YjB5SUiZ"
      }
    },
    {
      "cell_type": "code",
      "source": [
        "#Covariance - association between quantitative variables\n",
        "corr_forecast_point =np.cov(nba_2010.forecast, nba_2010.point_diff)\n",
        "print(corr_forecast_point)\n",
        "#covariance = 1.37\n",
        "\n",
        "#Pearson correlation\n",
        "pearson_forecast_point, p = pearsonr(nba_2010.forecast, nba_2010.point_diff)\n",
        "print(pearson_forecast_point)\n",
        "#pearson = 0.44 - linear association\n",
        "\n",
        "plt.clf()\n",
        "plt.scatter(x=nba_2010.forecast, y=nba_2010.point_diff)\n",
        "plt.xlabel('Forecast')\n",
        "plt.ylabel('Point difference')\n",
        "plt.show()"
      ],
      "metadata": {
        "id": "TUjJNVj-SWz3"
      },
      "execution_count": null,
      "outputs": []
    }
  ]
}