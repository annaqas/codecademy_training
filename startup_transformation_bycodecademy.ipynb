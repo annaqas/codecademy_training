{
  "nbformat": 4,
  "nbformat_minor": 0,
  "metadata": {
    "colab": {
      "name": "startup_transformation_bycodecademy.ipynb",
      "provenance": [],
      "authorship_tag": "ABX9TyP93EAO+6LnStya4NZbxBm0",
      "include_colab_link": true
    },
    "kernelspec": {
      "name": "python3",
      "display_name": "Python 3"
    },
    "language_info": {
      "name": "python"
    }
  },
  "cells": [
    {
      "cell_type": "markdown",
      "metadata": {
        "id": "view-in-github",
        "colab_type": "text"
      },
      "source": [
        "<a href=\"https://colab.research.google.com/github/annaqas/codecademy_training/blob/main/startup_transformation_bycodecademy.ipynb\" target=\"_parent\"><img src=\"https://colab.research.google.com/assets/colab-badge.svg\" alt=\"Open In Colab\"/></a>"
      ]
    },
    {
      "cell_type": "markdown",
      "source": [
        "The management team of the company you work for is concerned about the status of the company after a global pandemic.\n",
        "\n",
        "The CFO (Chief Financial Officer) asks you to perform some data analysis on the past six months of the company’s financial data, which has been loaded in the variable financial_data."
      ],
      "metadata": {
        "id": "jn4rPYZPlMeI"
      }
    },
    {
      "cell_type": "code",
      "execution_count": null,
      "metadata": {
        "id": "Ph_Tc7gPlILE"
      },
      "outputs": [],
      "source": [
        "import codecademylib3\n",
        "from sklearn import preprocessing\n",
        "import matplotlib.pyplot as plt\n",
        "import pandas as pd\n",
        "import seaborn as sns\n",
        "import numpy as np\n",
        "\n",
        "# load in financial data\n",
        "financial_data = pd.read_csv('financial_data.csv')\n",
        "\n",
        "print(financial_data.head())"
      ]
    },
    {
      "cell_type": "markdown",
      "source": [
        "Notice that financial_data has three columns – Month, Revenue, and Expenses.\n",
        "Store each column in three separate variables called month, revenue, and expenses.\n",
        "Create a plot of revenue over the past six months.\n",
        "Create a plot of expenses over the past six months."
      ],
      "metadata": {
        "id": "j6cAdDtIlXGA"
      }
    },
    {
      "cell_type": "code",
      "source": [
        "month = financial_data['Month']\n",
        "revenue = financial_data['Revenue']\n",
        "expenses = financial_data['Expenses']\n",
        "\n",
        "plt.plot(month,revenue)\n",
        "plt.xlabel('Month')\n",
        "plt.ylabel('Amount ($)')\n",
        "plt.title('Revenue')\n",
        "plt.show()\n",
        "plt.clf()\n",
        "plt.plot(month,expenses)\n",
        "plt.xlabel('Month')\n",
        "plt.ylabel('Amount ($)')\n",
        "plt.title('Expenses')\n",
        "plt.show()"
      ],
      "metadata": {
        "id": "5SgjNaASlpbE"
      },
      "execution_count": null,
      "outputs": []
    },
    {
      "cell_type": "markdown",
      "source": [
        "As shown, revenue seems to be quickly decreasing while expenses are increasing. If the current trend continues, expenses will soon surpass revenues, putting the company at risk.\n",
        "\n",
        "After you show this chart to the management team, they are alarmed. They conclude that expenses must be cut immediately and give you a new file to analyze called expenses.csv.\n",
        "\n",
        "Use pandas to read in expenses.csv and store it in a variable called expense_overview.\n",
        "\n",
        "Print the first seven rows of the data.\n",
        "\n",
        "Store the Expense column in a variable called expense_categories and the Proportion column in a variable called proportions.\n",
        "create a pie chart of the different expense categories. Use plt.clf() again to clear the previous plot, then create a pie chart using the plt.pie() method, passing in two arguments: proportions and labels = expense_categories\n",
        "Give your pie chart a title using plt.title(), then use plt.show() at the end to show the plot."
      ],
      "metadata": {
        "id": "TSAU1CL2lq_C"
      }
    },
    {
      "cell_type": "code",
      "source": [
        "expense_overview = pd.read_csv('expenses.csv')\n",
        "print(expense_overview.head(7))\n",
        "\n",
        "expense_categories = expense_overview['Expense']\n",
        "proportions = expense_overview['Proportion']\n",
        "\n",
        "plt.clf()\n",
        "plt.pie(proportions, labels = expense_categories)\n",
        "plt.title('Expenses by categories')\n",
        "plt.axis('Equal')\n",
        "plt.tight_layout()\n",
        "plt.show()"
      ],
      "metadata": {
        "id": "sYvIY61kmPvf"
      },
      "execution_count": null,
      "outputs": []
    },
    {
      "cell_type": "markdown",
      "source": [
        "It seems that Salaries, Advertising, and Office Rent make up most of the expenses, while the rest of the categories make up a small percentage.\n",
        "\n",
        "Before you hand this pie chart back to management, you would like to update the pie chart so that all categories making up less than 5% of the overall expenses (Equipment, Utilities, Supplies, and Food) are collapsed into an “Other” category.\n",
        "\n",
        "Update the pie chart accordingly."
      ],
      "metadata": {
        "id": "STASgL8mmQdi"
      }
    },
    {
      "cell_type": "code",
      "source": [
        "expenses_categories = ['Salaries', 'Advertising', 'Office Rent', 'Other']\n",
        "proportions = [0.62, 0.15, 0.15, 0.08]\n",
        "plt.clf()\n",
        "plt.pie(proportions, labels=expenses_categories)\n",
        "plt.title('Expenses categories')\n",
        "plt.axis('Equal')\n",
        "plt.tight_layout()\n",
        "plt.show()"
      ],
      "metadata": {
        "id": "Nx3k0T7fmcCB"
      },
      "execution_count": null,
      "outputs": []
    },
    {
      "cell_type": "markdown",
      "source": [
        "Salaries make up 62% of expenses. The management team determines that to cut costs in a meaningful way, they must let go of some employees.\n",
        "\n",
        "Each employee at the company is assigned a productivity score based on their work. The management would like to keep the most highly productive employees and let go of the least productive employees.\n",
        "\n",
        "First, use pandas to load in employees.csv and store it in a variable called employees.\n",
        "\n",
        "Print the first few rows of the data.\n",
        "\n",
        "Notice that there is a Productivity column, which indicates the productivity score assigned to that employee.\n",
        "\n",
        "Sort the employees data frame (in ascending order) by the Productivity column and store the result in a variable called sorted_productivity."
      ],
      "metadata": {
        "id": "HfrvqSCuniKL"
      }
    },
    {
      "cell_type": "code",
      "source": [
        "employees = pd.read_csv('employees.csv')\n",
        "print(employees.head())\n",
        "sorted_productivity = employees.sort_values(by=['Productivity'])\n",
        "print(sorted_productivity)"
      ],
      "metadata": {
        "id": "jNW2eETUnhu2"
      },
      "execution_count": null,
      "outputs": []
    },
    {
      "cell_type": "markdown",
      "source": [
        "You should now see the employees with the lowest productivity scores at the top of the data frame.\n",
        "\n",
        "The company decides to let go of the 100 least productive employees.\n",
        "\n",
        "Store the first 100 rows of sorted_productivity in a new variable called employees_cut and print out the result."
      ],
      "metadata": {
        "id": "oCyB74d1o5KJ"
      }
    },
    {
      "cell_type": "code",
      "source": [
        "employees_cut = sorted_productivity.head(100)\n",
        "print(employees_cut)"
      ],
      "metadata": {
        "id": "F_6bl-eqo6ye"
      },
      "execution_count": null,
      "outputs": []
    },
    {
      "cell_type": "markdown",
      "source": [
        "The COO (Chief Operating Officer) is debating whether to allow employees to continue to work from home post-pandemic.\n",
        "\n",
        "He first wants to take a look at roughly how long the average commute time is for employees at the company. He asks for your help to analyze this data.\n",
        "\n",
        "The employees data frame has a column called Commute Time that stores the commute time (in minutes) for each employee.\n",
        "\n",
        "Create a variable called commute_times that stores the Commute Time column.\n",
        "Let’s do some quick analysis on the commute times of employees.\n",
        "\n",
        "Use print() and .describe() to print out descriptive statistics for commute_times.\n",
        "\n",
        "What are the average and median commute times? Might it be worth it for the company to explore allowing remote work indefinitely so employees can save time during the day?"
      ],
      "metadata": {
        "id": "zD1TZtTaqBV5"
      }
    },
    {
      "cell_type": "code",
      "source": [
        "commute = employees['Commute Time'] \n",
        "print(commute.describe())"
      ],
      "metadata": {
        "id": "Of8smrMRqFDl"
      },
      "execution_count": null,
      "outputs": []
    },
    {
      "cell_type": "markdown",
      "source": [
        "Let’s explore the shape of the commute time data using a histogram.\n",
        "\n",
        "First, use plt.clf() to clear the previous plots. Then use plt.hist() to plot the histogram of commute_times. Finally, use plt.show() to show the plot. Feel free to add labels above plt.show() if you would like to practice!\n",
        "\n",
        "What do you notice about the shape of the data? Is it symmetric, left skewed, or right skewed?\n",
        "'Right skewed'"
      ],
      "metadata": {
        "id": "baioArMQqiIr"
      }
    },
    {
      "cell_type": "code",
      "source": [
        "plt.clf()\n",
        "plt.hist(commute_times)\n",
        "plt.title(\"Employee Commute Times\")\n",
        "plt.xlabel(\"Commute Time\")\n",
        "plt.ylabel(\"Frequency\")\n",
        "plt.tight_layout()\n",
        "plt.show()"
      ],
      "metadata": {
        "id": "yqs0hZPFqh6d"
      },
      "execution_count": null,
      "outputs": []
    },
    {
      "cell_type": "markdown",
      "source": [
        "The data seems to be skewed to the right. To make it more symmetrical, we might try applying a log transformation.\n",
        "Right under the commute_times variable, create a variable called commute_times_log that stores a log-transformed version of commute_times.\n",
        "To apply log-transform, you can use numpy’s log() function.\n",
        "\n",
        "Replace the histogram for commute_times with one for commute_times_log.\n",
        "Notice how the shape of the data changes from being right skewed to a more symmetrical (and even slightly left-skewed) in shape. After applying log transformation, the transformed data is more “normal” than before."
      ],
      "metadata": {
        "id": "JrpLFBWWrASe"
      }
    },
    {
      "cell_type": "code",
      "source": [
        "print(commute_times.skew())\n",
        "commute_times_log = np.log(commute_times)\n",
        "plt.clf()\n",
        "plt.hist(commute_times_log)\n",
        "plt.title(\"Employee Commute Times\")\n",
        "plt.xlabel(\"Commute Time Logged\")\n",
        "plt.ylabel(\"Frequency\")\n",
        "plt.tight_layout()\n",
        "plt.show()"
      ],
      "metadata": {
        "id": "0xYLPndFq_hY"
      },
      "execution_count": null,
      "outputs": []
    },
    {
      "cell_type": "markdown",
      "source": [
        "In this project, you performed data analysis to help a management team answer important questions about the status of the company during a difficult time.\n",
        "\n",
        "You did this by analyzing data sets and applying common data transformation techniques. These are important skills to have as a data analyst.\n",
        "\n",
        "Other analysis:\n",
        "\n",
        "Apply standardization to the employees data using StandardScaler() from sklearn. Refer to this article if you need help.\n",
        "\n",
        "Explore the income and productivity features in more detail. Can you find a relationship between productivity and income?\n",
        "\n",
        "Happy coding!"
      ],
      "metadata": {
        "id": "YV97osuaspOo"
      }
    }
  ]
}