{
  "nbformat": 4,
  "nbformat_minor": 0,
  "metadata": {
    "colab": {
      "name": "Sublime Lime Graph Line Project.ipynb",
      "provenance": [],
      "authorship_tag": "ABX9TyP2JtJoIbNH8mCcAjeaRr1F",
      "include_colab_link": true
    },
    "kernelspec": {
      "name": "python3",
      "display_name": "Python 3"
    },
    "language_info": {
      "name": "python"
    }
  },
  "cells": [
    {
      "cell_type": "markdown",
      "metadata": {
        "id": "view-in-github",
        "colab_type": "text"
      },
      "source": [
        "<a href=\"https://colab.research.google.com/github/annaqas/projects_codecademy/blob/main/Sublime_Lime_Graph_Line_Project.ipynb\" target=\"_parent\"><img src=\"https://colab.research.google.com/assets/colab-badge.svg\" alt=\"Open In Colab\"/></a>"
      ]
    },
    {
      "cell_type": "code",
      "execution_count": null,
      "metadata": {
        "id": "WmEhAHJbXtR-"
      },
      "outputs": [],
      "source": [
        "import codecademylib\n",
        "from matplotlib import pyplot as plt\n",
        "\n",
        "months = [\"Jan\", \"Feb\", \"Mar\", \"Apr\", \"May\", \"Jun\", \"Jul\", \"Aug\", \"Sep\", \"Oct\", \"Nov\", \"Dec\"]\n",
        "\n",
        "visits_per_month = [9695, 7909, 10831, 12942, 12495, 16794, 14161, 12762, 12777, 12439, 10309, 8724]\n",
        "\n",
        "# numbers of limes of different species sold each month\n",
        "key_limes_per_month = [92.0, 109.0, 124.0, 70.0, 101.0, 79.0, 106.0, 101.0, 103.0, 90.0, 102.0, 106.0]\n",
        "persian_limes_per_month = [67.0, 51.0, 57.0, 54.0, 83.0, 90.0, 52.0, 63.0, 51.0, 44.0, 64.0, 78.0]\n",
        "blood_limes_per_month = [75.0, 75.0, 76.0, 71.0, 74.0, 77.0, 69.0, 80.0, 63.0, 69.0, 73.0, 82.0]\n",
        "\n",
        "plt.figure(figsize=(12,8))\n",
        "\n",
        "ax1 = plt.subplot(1,2,1)\n",
        "x_values = range(len(months))\n",
        "plt.plot(x_values, visits_per_month, marker='*')\n",
        "plt.xlabel('Months')\n",
        "plt.ylabel('Total page visits')\n",
        "ax1.set_xticks(x_values)\n",
        "ax1.set_xticklabels(months)\n",
        "plt.title('Visits per Month')\n",
        "\n",
        "ax2= plt.subplot(1,2,2)\n",
        "plt.plot(x_values, key_limes_per_month, color='blue', label='Key', marker='*')\n",
        "plt.plot(x_values, persian_limes_per_month, color='green', label='Persian', marker='*')\n",
        "plt.plot(x_values, blood_limes_per_month, color='red', label='Blood', marker='*')\n",
        "plt.legend()\n",
        "plt.xlabel('Months')\n",
        "plt.ylabel('Limes per months')\n",
        "ax2.set_xticks(x_values)\n",
        "ax2.set_xticklabels(months)\n",
        "plt.title('Limes per Month')\n",
        "\n",
        "plt.subplots_adjust(wspace=0.35)\n",
        "plt.savefig('sublime_lime_linegraph_project')\n",
        "plt.show()"
      ]
    }
  ]
}