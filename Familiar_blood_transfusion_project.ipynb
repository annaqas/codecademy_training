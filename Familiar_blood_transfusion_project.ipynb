{
  "nbformat": 4,
  "nbformat_minor": 0,
  "metadata": {
    "colab": {
      "name": "Familiar_blood transfusion_project.ipynb",
      "provenance": [],
      "authorship_tag": "ABX9TyMvcPePo2IRVJOET8Y+qt6u",
      "include_colab_link": true
    },
    "kernelspec": {
      "name": "python3",
      "display_name": "Python 3"
    },
    "language_info": {
      "name": "python"
    }
  },
  "cells": [
    {
      "cell_type": "markdown",
      "metadata": {
        "id": "view-in-github",
        "colab_type": "text"
      },
      "source": [
        "<a href=\"https://colab.research.google.com/github/annaqas/projects_codecademy/blob/main/Familiar_blood_transfusion_project.ipynb\" target=\"_parent\"><img src=\"https://colab.research.google.com/assets/colab-badge.svg\" alt=\"Open In Colab\"/></a>"
      ]
    },
    {
      "cell_type": "code",
      "execution_count": null,
      "metadata": {
        "id": "z1izPSoj8AgH"
      },
      "outputs": [],
      "source": [
        "# Import libraries\n",
        "import pandas as pd\n",
        "import numpy as np\n",
        "\n",
        "# Load datasets\n",
        "lifespans = pd.read_csv('familiar_lifespan.csv')\n",
        "iron = pd.read_csv('familiar_iron.csv')\n",
        "\n",
        "print(lifespans.head())\n",
        "#VEIN\n",
        "# Save lifespans for vein pack subscribers\n",
        "vein_pack_lifespans = lifespans.lifespan[lifespans.pack=='vein']\n",
        "\n",
        "#mean of lifespan for vein\n",
        "print(np.mean(vein_pack_lifespans))\n",
        "#mean = 76.17\n",
        "\n",
        "from scipy.stats import ttest_1samp\n",
        "#null: average lifespan of a vein = 73 years\n",
        "#alternative: average lifespan is not 73 years\n",
        "\n",
        "tstat, pval=ttest_1samp(vein_pack_lifespans, 73)\n",
        "print(pval)\n",
        "#pval < 0.05\n",
        "\n",
        "# ARTERY\n",
        "# Save lifespans for ARTERY pack subscribers\n",
        "artery_pack_lifespans = lifespans.lifespan[lifespans.pack=='artery']\n",
        "\n",
        "#mean of lifespan for ARTERY\n",
        "print(np.mean(artery_pack_lifespans))\n",
        "#mean = 74.87\n",
        "\n",
        "#null: average lifespan of a artery = vein\n",
        "#alternative: average lifespan of artery is != vein\n",
        "from scipy.stats import ttest_ind\n",
        "tstat, pval=ttest_ind(artery_pack_lifespans, vein_pack_lifespans)\n",
        "print(pval)\n",
        "# pval = 0.05588883079070819\n",
        "\n",
        "#SIDE EFFECTS - IRON COUNTS\n",
        "print(iron.head())\n",
        "\n",
        "#contingency table\n",
        "Xtab = pd.crosstab(iron.pack, iron.iron)\n",
        "print(Xtab)\n",
        "\n",
        "#null: there is NOT association between pack and iron level\n",
        "#alternative: there is association between pack and iron level\n",
        "#run the test:\n",
        "from scipy.stats import chi2_contingency\n",
        "chi2, pval, dof, expected = chi2_contingency(Xtab)\n",
        "print(pval)\n",
        "#pval <0.05"
      ]
    }
  ]
}