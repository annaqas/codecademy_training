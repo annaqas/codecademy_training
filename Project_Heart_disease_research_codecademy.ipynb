{
  "nbformat": 4,
  "nbformat_minor": 0,
  "metadata": {
    "colab": {
      "name": "Project_Heart_disease_research_codecademy.ipynb",
      "provenance": [],
      "authorship_tag": "ABX9TyNdNEFKuyxPQmcdRsWpMhRu",
      "include_colab_link": true
    },
    "kernelspec": {
      "name": "python3",
      "display_name": "Python 3"
    },
    "language_info": {
      "name": "python"
    }
  },
  "cells": [
    {
      "cell_type": "markdown",
      "metadata": {
        "id": "view-in-github",
        "colab_type": "text"
      },
      "source": [
        "<a href=\"https://colab.research.google.com/github/annaqas/projects_codecademy/blob/main/Project_Heart_disease_research_codecademy.ipynb\" target=\"_parent\"><img src=\"https://colab.research.google.com/assets/colab-badge.svg\" alt=\"Open In Colab\"/></a>"
      ]
    },
    {
      "cell_type": "markdown",
      "source": [
        "Project - Heart Disease Research Part I"
      ],
      "metadata": {
        "id": "H9QIBY-XkjYD"
      }
    },
    {
      "cell_type": "code",
      "execution_count": null,
      "metadata": {
        "id": "T0VvL8IEkgKs"
      },
      "outputs": [],
      "source": [
        "# import libraries\n",
        "import codecademylib3\n",
        "import pandas as pd\n",
        "import numpy as np\n",
        "\n",
        "# load data\n",
        "heart = pd.read_csv('heart_disease.csv')\n",
        "yes_hd = heart[heart.heart_disease == 'presence']\n",
        "no_hd = heart[heart.heart_disease == 'absence']\n",
        "\n",
        "#CHOLESTEROL ANALYSIS\n",
        "#investigate cholesterol levels for patients WITH heart disease\n",
        "chol_hd_yes = yes_hd.chol\n",
        "\n",
        "#mean cholesterol level for patients hd=yes. high chol is over 240\n",
        "mean_chol_hd_yes = np.mean(chol_hd_yes)\n",
        "print(mean_chol_hd_yes)\n",
        "#is higher than 240. Output 251.48\n",
        "\n",
        "#null: patients hd=yes, chol =240\n",
        "#alternative: patients hd=yes, chol > 240\n",
        "from scipy.stats import ttest_1samp\n",
        "\n",
        "tstat, pval = ttest_1samp(chol_hd_yes, 240)\n",
        "print(pval/2)\n",
        "\n",
        "#The heart disease patients have an average cholesterol level significantly greater than 240 mg/ml using sig-threshold 0.05. Output is p-value = 0.00354\n",
        "\n",
        "#investigate cholesterol levels for patients WITHOUT heart disease\n",
        "chol_hd_no = no_hd.chol\n",
        "\n",
        "#mean cholesterol level for patients hd=yes. ref: high chol is over 240\n",
        "mean_chol_hd_no = np.mean(chol_hd_no)\n",
        "print(mean_chol_hd_no)\n",
        "#is higher than 240. Output 242.64\n",
        "\n",
        "#null: patients hd=no, chol =240\n",
        "#alternative: patients hd=yes, chol > 240\n",
        "tstat, pval = ttest_1samp(chol_hd_no, 240)\n",
        "print(pval/2)\n",
        "\n",
        "#The patients WITHOUT heart disease have an average cholesterol level greater than 240 mg/ml. Using sig-threshold 0.05, this result is not significant. Output is p-value = 0.2640\n",
        "\n",
        "#FASTING BLOOD SUGAR ANALYSIS\n",
        "num_patients = len(heart)\n",
        "print(num_patients)\n",
        "#output: 303\n",
        "\n",
        "#fbs column indicates patients with or without fasting blood sugar greater than 120 mg/ml (1/0)\n",
        "num_highfbs_patients = np.sum(heart.fbs==1)\n",
        "print(num_highfbs_patients)\n",
        "#output : 45 patients\n",
        "\n",
        "probability_diabetes = 303*0.08\n",
        "print(probability_diabetes) \n",
        "#output = 24.24. Observed (45) is greater than Expected (24)\n",
        "\n",
        "from scipy.stats import binom_test\n",
        "#null: this sample have 8% of the patients with fbs > 120\n",
        "#alternative: this sample have more than 8% of the patients with fbs > 120\n",
        "\n",
        "p_value_fbs = binom_test(45, n=303, p=0.08, alternative = 'greater')\n",
        "print(p_value_fbs)\n",
        "#p-value-fbs = 0.00000468\n",
        "#This sample have a population where the rate of fasting blood sugar > 120 mg/dl is significantly greater than 8%."
      ]
    }
  ]
}