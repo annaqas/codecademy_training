{
  "nbformat": 4,
  "nbformat_minor": 0,
  "metadata": {
    "colab": {
      "name": "ttest_one_sample.ipynb",
      "provenance": [],
      "authorship_tag": "ABX9TyNSdyaCsYPqkztRhM+4G9s4",
      "include_colab_link": true
    },
    "kernelspec": {
      "name": "python3",
      "display_name": "Python 3"
    },
    "language_info": {
      "name": "python"
    }
  },
  "cells": [
    {
      "cell_type": "markdown",
      "metadata": {
        "id": "view-in-github",
        "colab_type": "text"
      },
      "source": [
        "<a href=\"https://colab.research.google.com/github/annaqas/projects_codecademy/blob/main/ttest_one_sample.ipynb\" target=\"_parent\"><img src=\"https://colab.research.google.com/assets/colab-badge.svg\" alt=\"Open In Colab\"/></a>"
      ]
    },
    {
      "cell_type": "markdown",
      "source": [
        "As a final exercise, some data has been loaded for you with purchase prices for consecutive days at BuyPie. You can access the first day using daily_prices[0], the second using daily_prices[1], etc.. To practice running a one-sample t-test and inspecting the resulting p-value, try the following:\n",
        "\n",
        "Calculate and print out a p-value for day 1 where the null hypothesis is that the average purchase price was 1000 Rupees and the alternative hypothesis is that the average purchase price was not 1000 Rupees. Print out the p-value.\n",
        "\n",
        "Run the same hypothesis tests for days 1-10 (the fastest way to do this is with a for-loop!) and print out the resulting p-values. What’s the smallest p-value you observe for those 10 days?\n",
        "\n",
        "Try changing the null hypothesis so that the expected population mean that you’re testing against is different from 1000. Try any numbers that you want. How do your p-values change?"
      ],
      "metadata": {
        "id": "e32IoST1Pau8"
      }
    },
    {
      "cell_type": "code",
      "execution_count": null,
      "metadata": {
        "id": "mulCEiElPViJ"
      },
      "outputs": [],
      "source": [
        "from scipy.stats import ttest_1samp\n",
        "import numpy as np\n",
        "\n",
        "daily_prices = np.genfromtxt(\"daily_prices.csv\", delimiter=\",\")\n",
        "\n",
        "print(daily_prices)\n",
        "\n",
        "daily_prices_mean=np.mean(daily_prices)\n",
        "print(daily_prices_mean)\n",
        "\n",
        "tstat, pval=ttest_1samp(daily_prices[0], 400)\n",
        "print(pval)\n",
        "\n",
        "# 10 days:\n",
        "for i in range(10):\n",
        "  tstat, pval = ttest_1samp(daily_prices[i], 1000)\n",
        "  print(\"day\",i+1, \"p-value:\")\n",
        "  print(pval)\n",
        "\n",
        "  smalest_pvalue = \"day 6\""
      ]
    }
  ]
}