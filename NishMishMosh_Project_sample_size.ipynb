{
  "nbformat": 4,
  "nbformat_minor": 0,
  "metadata": {
    "colab": {
      "name": "NishMishMosh Project - sample_size.ipynb",
      "provenance": [],
      "authorship_tag": "ABX9TyMRSF5yj3Sg7PJqHFtbYf+D",
      "include_colab_link": true
    },
    "kernelspec": {
      "name": "python3",
      "display_name": "Python 3"
    },
    "language_info": {
      "name": "python"
    }
  },
  "cells": [
    {
      "cell_type": "markdown",
      "metadata": {
        "id": "view-in-github",
        "colab_type": "text"
      },
      "source": [
        "<a href=\"https://colab.research.google.com/github/annaqas/projects_codecademy/blob/main/NishMishMosh_Project_sample_size.ipynb\" target=\"_parent\"><img src=\"https://colab.research.google.com/assets/colab-badge.svg\" alt=\"Open In Colab\"/></a>"
      ]
    },
    {
      "cell_type": "code",
      "execution_count": null,
      "metadata": {
        "id": "exqJwb4X1JR-"
      },
      "outputs": [],
      "source": [
        "import noshmishmosh\n",
        "import numpy as np\n",
        "\n",
        "#determine baseline conversion rate, minimum detectable effect (lift) and the statistical significance thresold\n",
        "\n",
        "#how many visitors to the site ultimately end up buying a meal or set of meals in a typical week\n",
        "all_visitors = noshmishmosh.customer_visits\n",
        "paying_visitors = noshmishmosh.purchasing_customers\n",
        "\n",
        "total_visitor_count = len(all_visitors)\n",
        "paying_visitor_count = len(paying_visitors)\n",
        "\n",
        "#baseline = number of purchasing visitors by the number of total visitors\n",
        "baseline_percent = paying_visitor_count / total_visitor_count *100\n",
        "print('The percent of paying visitor is:')\n",
        "print(baseline_percent)\n",
        "\n",
        "#effect size (pulling in $1240 more every week)\n",
        "payment_history = noshmishmosh.money_spent\n",
        "average_payment = np.mean(payment_history)\n",
        "print('The average of payment is:')\n",
        "print(average_payment)\n",
        "\n",
        "new_customers_needed = np.ceil(1240/average_payment)\n",
        "print('The number of paying-customers that we need to improve $1240 is:')\n",
        "print(new_customers_needed)\n",
        "\n",
        "percentage_point_increase = new_customers_needed / total_visitor_count * 100\n",
        "print('The lift is (percent):')\n",
        "print(percentage_point_increase)\n",
        "\n",
        "mde = percentage_point_increase / baseline_percent *100\n",
        "print('The mde is:')\n",
        "print(mde)\n",
        "\n",
        "#significance threshold = 0.10\n",
        "\n",
        "ab_sample_size = 490"
      ]
    }
  ]
}