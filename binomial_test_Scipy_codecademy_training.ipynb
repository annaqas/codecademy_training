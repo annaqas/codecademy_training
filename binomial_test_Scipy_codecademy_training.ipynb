{
  "nbformat": 4,
  "nbformat_minor": 0,
  "metadata": {
    "colab": {
      "name": "binomial_test_Scipy_codecademy_training.ipynb",
      "provenance": [],
      "authorship_tag": "ABX9TyNmd2gmwSJViOhMhtyqdU2o",
      "include_colab_link": true
    },
    "kernelspec": {
      "name": "python3",
      "display_name": "Python 3"
    },
    "language_info": {
      "name": "python"
    }
  },
  "cells": [
    {
      "cell_type": "markdown",
      "metadata": {
        "id": "view-in-github",
        "colab_type": "text"
      },
      "source": [
        "<a href=\"https://colab.research.google.com/github/annaqas/projects_codecademy/blob/main/binomial_test_Scipy_codecademy_training.ipynb\" target=\"_parent\"><img src=\"https://colab.research.google.com/assets/colab-badge.svg\" alt=\"Open In Colab\"/></a>"
      ]
    },
    {
      "cell_type": "markdown",
      "source": [
        "Training a complete command to run a binomial test without and with binom_test() function from scipy"
      ],
      "metadata": {
        "id": "LBKGNcWJkJ6_"
      }
    },
    {
      "cell_type": "code",
      "execution_count": null,
      "metadata": {
        "id": "_Z-2rzJEUiAk"
      },
      "outputs": [],
      "source": [
        "import numpy as np\n",
        "import pandas as pd\n",
        "from scipy.stats import binom_test\n",
        "\n",
        "def simulation_binomial_test(observed_successes, n, p, alternative_hypothesis):\n",
        "  #initialize null_outcomes\n",
        "  null_outcomes = []\n",
        "  \n",
        "  #generate the simulated null distribution\n",
        "  for i in range(10000):\n",
        "    simulated_monthly_visitors = np.random.choice(['y', 'n'], size=n, p=[p, 1-p])\n",
        "    num_purchased = np.sum(simulated_monthly_visitors == 'y')\n",
        "    null_outcomes.append(num_purchased)\n",
        "\n",
        "  null_outcomes = np.array(null_outcomes)\n",
        "\n",
        "  if alternative_hypothesis == 'less':\n",
        "    p_value = np.sum(null_outcomes <= observed_successes)/len(null_outcomes) \n",
        "  elif alternative_hypothesis == 'greater':\n",
        "    p_value = np.sum(null_outcomes >= observed_successes)/len(null_outcomes)\n",
        "  else:\n",
        "    difference = np.abs(p*n - observed_successes)\n",
        "    upper = p*n + difference\n",
        "    lower = p*n - difference\n",
        "    p_value = np.sum((null_outcomes >= upper) | (null_outcomes <= lower))/len(null_outcomes)\n",
        "  \n",
        "  #return the p-value\n",
        "  return p_value\n",
        "\n",
        "#Test your function:\n",
        "print('lower tail one-sided test:')\n",
        "p_value1 = simulation_binomial_test(45, 500, .1, alternative_hypothesis = 'less')\n",
        "print(\"simulation p-value: \", p_value1)\n",
        "\n",
        "p_value2 = binom_test(45, 500, .1, alternative = 'less')\n",
        "print(\"binom_test p-value: \", p_value2)\n",
        "\n",
        "print('upper tail one-sided test:')\n",
        "p_value1 = simulation_binomial_test(53, 500, .1, alternative_hypothesis = 'greater')\n",
        "print(\"simulation p-value: \", p_value1)\n",
        "\n",
        "p_value2 = binom_test(53, 500, .1, alternative = 'greater')\n",
        "print(\"binom_test p-value: \", p_value2)\n",
        "\n",
        "print('two-sided test:')\n",
        "p_value1 = simulation_binomial_test(42, 500, .1, alternative_hypothesis = 'not_equal')\n",
        "print(\"simulation p-value: \", p_value1)\n",
        "\n",
        "p_value2 = binom_test(42, 500, .1)\n",
        "print(\"binom_test p-value: \", p_value2)"
      ]
    }
  ]
}