{
  "nbformat": 4,
  "nbformat_minor": 0,
  "metadata": {
    "colab": {
      "name": "Linear Regression at Codecademy project.ipynb",
      "provenance": [],
      "authorship_tag": "ABX9TyNC656ozG611ykXoJ4L4jaE",
      "include_colab_link": true
    },
    "kernelspec": {
      "name": "python3",
      "display_name": "Python 3"
    },
    "language_info": {
      "name": "python"
    }
  },
  "cells": [
    {
      "cell_type": "markdown",
      "metadata": {
        "id": "view-in-github",
        "colab_type": "text"
      },
      "source": [
        "<a href=\"https://colab.research.google.com/github/annaqas/projects_codecademy/blob/main/Linear_Regression_at_Codecademy_project.ipynb\" target=\"_parent\"><img src=\"https://colab.research.google.com/assets/colab-badge.svg\" alt=\"Open In Colab\"/></a>"
      ]
    },
    {
      "cell_type": "code",
      "source": [
        "# Load libraries\n",
        "import pandas as pd\n",
        "import numpy as np\n",
        "import matplotlib.pyplot as plt\n",
        "import seaborn as sns\n",
        "import statsmodels.api as sm\n",
        "\n",
        "# Read in the data\n",
        "codecademy = pd.read_csv('/content/sample_data/codecademy.csv')\n",
        "\n",
        "# Print the first five rows\n",
        "print(codecademy.head())\n",
        "# Create a scatter plot of score vs completed\n",
        "plt.scatter(codecademy.completed, codecademy.score)\n",
        "# Show then clear plot\n",
        "plt.show()\n",
        "plt.clf()\n",
        "# Fit a linear regression to predict score based on prior lessons completed\n",
        "model = sm.OLS.from_formula('score ~completed', data = codecademy)\n",
        "results = model.fit()\n",
        "print(results.params)\n",
        "\n",
        "# Intercept interpretation:\n",
        "# A person with 0 completed items on Codecademy have the 13.21 score.\n",
        "\n",
        "# Slope interpretation:\n",
        "# For each 1 item completed, 1.31 point increase on score\n",
        "\n",
        "# Plot the scatter plot with the line on top\n",
        "plt.scatter(codecademy.completed, codecademy.score)\n",
        "plt.plot(codecademy.completed, results.predict(codecademy))\n",
        "# Show then clear plot\n",
        "plt.show()\n",
        "plt.clf()\n",
        "# Predict score for learner who has completed 20 prior lessons\n",
        "pred20 = results.params[0] + results.params[1]*20\n",
        "# Calculate fitted values\n",
        "fitted_values = results.predict(codecademy)\n",
        "\n",
        "# Calculate residuals\n",
        "residuals = codecademy.score - fitted_values\n",
        "# Check normality assumption\n",
        "plt.hist(residuals)\n",
        "\n",
        "# Show then clear the plot\n",
        "plt.show()\n",
        "plt.clf()\n",
        "# Check homoscedasticity assumption\n",
        "plt.scatter(fitted_values, residuals)\n",
        "# Show then clear the plot\n",
        "plt.show()\n",
        "plt.clf()\n",
        "\n",
        "# Create a boxplot of score vs lesson\n",
        "sns.boxplot(codecademy.lesson, codecademy.score)\n",
        "# Show then clear plot\n",
        "plt.show()\n",
        "plt.clf()\n",
        "\n",
        "# Fit a linear regression to predict score based on which lesson they took\n",
        "model = sm.OLS.from_formula('score ~ lesson', data = codecademy)\n",
        "results = model.fit()\n",
        "print(results.params)\n",
        "# Calculate and print the group means and mean difference (for comparison)\n",
        "mean_score_lesson_A = np.mean(codecademy.score[codecademy.lesson == 'Lesson A'])\n",
        "mean_score_lesson_B = np.mean(codecademy.score[codecademy.lesson == 'Lesson B'])\n",
        "print('Mean score (Lesson A): ', mean_score_lesson_A)\n",
        "print('Mean score (Lesson B): ', mean_score_lesson_B)\n",
        "print('The mean diference of the lesson A and lesson B is: ' + str(mean_score_lesson_A - mean_score_lesson_B))\n",
        "\n",
        "# Use `sns.lmplot()` to plot `score` vs. `completed` colored by `lesson`\n",
        "sns.lmplot(x = 'completed', y = 'score', hue = 'lesson', data = codecademy)\n",
        "plt.show()"
      ],
      "metadata": {
        "id": "gCaB_nj8A5Cn"
      },
      "execution_count": null,
      "outputs": []
    }
  ]
}