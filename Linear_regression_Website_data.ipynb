{
  "nbformat": 4,
  "nbformat_minor": 0,
  "metadata": {
    "colab": {
      "name": "Linear_regression_Website_data.ipynb",
      "provenance": [],
      "authorship_tag": "ABX9TyNpxMBdPxT08duc8fs1Gf6/",
      "include_colab_link": true
    },
    "kernelspec": {
      "name": "python3",
      "display_name": "Python 3"
    },
    "language_info": {
      "name": "python"
    }
  },
  "cells": [
    {
      "cell_type": "markdown",
      "metadata": {
        "id": "view-in-github",
        "colab_type": "text"
      },
      "source": [
        "<a href=\"https://colab.research.google.com/github/annaqas/projects_codecademy/blob/main/Linear_regression_Website_data.ipynb\" target=\"_parent\"><img src=\"https://colab.research.google.com/assets/colab-badge.svg\" alt=\"Open In Colab\"/></a>"
      ]
    },
    {
      "cell_type": "code",
      "execution_count": null,
      "metadata": {
        "id": "yqvyB3LG72wN"
      },
      "outputs": [],
      "source": [
        "# Load libraries\n",
        "import codecademylib3\n",
        "import pandas as pd\n",
        "import numpy as np\n",
        "import matplotlib.pyplot as plt\n",
        "import statsmodels.api as sm\n",
        "\n",
        "# Read in the data\n",
        "website = pd.read_csv('website.csv')\n",
        "\n",
        "# Print the first five rows\n",
        "print(website.head())\n",
        "\n",
        "# Create a scatter plot of time vs age\n",
        "plt.scatter(website.age, website.time_seconds)\n",
        "\n",
        "# Show then clear plot\n",
        "plt.show()\n",
        "plt.clf()\n",
        "\n",
        "# Fit a linear regression to predict time_seconds based on age\n",
        "model = sm.OLS.from_formula('time_seconds ~age', website)\n",
        "results = model.fit()\n",
        "print(results.params)\n",
        "\n",
        "# Plot the scatter plot with the line on top\n",
        "plt.scatter(website.age, website.time_seconds)\n",
        "plt.plot(website.age, results.params[0] + results.params[1]*website.age)\n",
        "\n",
        "# Show then clear plot\n",
        "plt.show()\n",
        "plt.clf()\n",
        "\n",
        "# Calculate fitted values\n",
        "fitted_values = results.predict(website)\n",
        "\n",
        "# Calculate residuals\n",
        "residuals = website.time_seconds - fitted_values\n",
        "\n",
        "# Check normality assumption\n",
        "plt.hist(residuals)\n",
        "\n",
        "# Show then clear the plot\n",
        "plt.show()\n",
        "plt.clf()\n",
        "\n",
        "# Check homoscedasticity assumption\n",
        "plt.scatter(fitted_values, residuals)\n",
        "\n",
        "# Show then clear the plot\n",
        "plt.show()\n",
        "plt.clf()\n",
        "\n",
        "# Predict amount of time on website for 40 year old\n",
        "pred40 = results.params[1]*40 + results.params[0]\n",
        "print(pred40)\n",
        "\n",
        "# Fit a linear regression to predict time_seconds based on age\n",
        "model = sm.OLS.from_formula('time_seconds ~ browser', website)\n",
        "results = model.fit()\n",
        "print(results.params)\n",
        "\n",
        "# Calculate and print the group means (for comparison)\n",
        "mean_time_chrome = np.mean(website.time_seconds[website.browser == 'Chrome'])\n",
        "mean_time_safari = np.mean(website.time_seconds[website.browser == 'Safari'])\n",
        "print('Mean time (Chrome): ', mean_time_chrome)\n",
        "print('Mean time (Safari): ', mean_time_safari)\n",
        "print('Mean time difference: ', mean_time_chrome - mean_time_safari)"
      ]
    }
  ]
}