{
  "nbformat": 4,
  "nbformat_minor": 0,
  "metadata": {
    "colab": {
      "name": "airline_project_codecademy.ipynb",
      "provenance": [],
      "authorship_tag": "ABX9TyOxF+xSU6QNsZanamW8qbLx",
      "include_colab_link": true
    },
    "kernelspec": {
      "name": "python3",
      "display_name": "Python 3"
    },
    "language_info": {
      "name": "python"
    }
  },
  "cells": [
    {
      "cell_type": "markdown",
      "metadata": {
        "id": "view-in-github",
        "colab_type": "text"
      },
      "source": [
        "<a href=\"https://colab.research.google.com/github/annaqas/projects_codecademy/blob/main/airline_project_codecademy.ipynb\" target=\"_parent\"><img src=\"https://colab.research.google.com/assets/colab-badge.svg\" alt=\"Open In Colab\"/></a>"
      ]
    },
    {
      "cell_type": "code",
      "execution_count": null,
      "metadata": {
        "id": "OUwBG6DO_4Z6"
      },
      "outputs": [],
      "source": [
        "mport pandas as pd\n",
        "import numpy as np\n",
        "import seaborn as sns\n",
        "import statsmodels\n",
        "import matplotlib.pyplot as plt\n",
        "import math\n",
        "import codecademylib3\n",
        "\n",
        "\n",
        "## Read in Data\n",
        "flight = pd.read_csv(\"flight.csv\")\n",
        "print(flight.head())\n",
        "\n",
        "## Task 1\n",
        "# What do coach ticket prices look like? \n",
        "# What are the high and low values? \n",
        "# What would be considered average? \n",
        "# Does $500 seem like a good price for a coach ticket?\n",
        "\n",
        "sns.boxplot(x=flight.coach_price, data=flight)\n",
        "plt.show()\n",
        "plt.clf()\n",
        "\n",
        "sns.displot(flight.coach_price, bins=10, kde=False)\n",
        "mean_coach_price = np.mean(flight.coach_price)\n",
        "plt.axvline(mean_coach_price, color = 'r')\n",
        "plt.show()\n",
        "plt.clf()\n",
        "print(mean_coach_price)"
      ]
    },
    {
      "cell_type": "code",
      "source": [
        "## Task 2\n",
        "# Now visualize the coach ticket prices for flights that are 8 hours long. \n",
        "# What are the high, low, and average prices for 8-hour-long flights? \n",
        "# Does a $500 ticket seem more reasonable than before?\n",
        "\n",
        "sns.histplot(flight.coach_price[flight.hours == 8], bins=10, kde=False)\n",
        "mean_coach_price_8h = np.mean(flight.coach_price[flight.hours == 8])\n",
        "min_coach_price_8h = np.min(flight.coach_price[flight.hours == 8])\n",
        "max_coach_price_8h = np.max(flight.coach_price[flight.hours == 8])\n",
        "plt.axvline(mean_coach_price_8h, color = 'r')\n",
        "plt.axvline(min_coach_price_8h, color = 'b')\n",
        "plt.axvline(max_coach_price_8h, color = 'g')\n",
        "plt.show()\n",
        "plt.clf()\n",
        "print('The mean coach price for 8h-long-flight are: ' +str(mean_coach_price_8h) + ' and the min and max values are: ' + str(min_coach_price_8h) + ' and ' + str(max_coach_price_8h))\n",
        "\n"
      ],
      "metadata": {
        "id": "o5HDv1_iAj3D"
      },
      "execution_count": null,
      "outputs": []
    },
    {
      "cell_type": "code",
      "source": [
        "## Task 3\n",
        "# How are flight delay times distributed? \n",
        "# Let’s say there is a short amount of time between two connecting flights, and a flight delay would put the client at risk of missing their connecting flight. \n",
        "# You want to better understand how often there are large delays so you can correctly set up connecting flights. \n",
        "# What kinds of delays are typical?\n",
        "\n",
        "plt.hist(flight.delay[flight.delay <=20], bins=10)\n",
        "print(np.mean(flight.delay))\n",
        "print(np.max(flight.delay))\n",
        "plt.show()\n",
        "plt.clf()\n"
      ],
      "metadata": {
        "id": "aKNVrXwmAmoX"
      },
      "execution_count": null,
      "outputs": []
    },
    {
      "cell_type": "code",
      "source": [
        "## Task 4\n",
        "# Create a visualization that shows the relationship between coach and first-class prices. \n",
        "# What is the relationship between these two prices? \n",
        "# Do flights with higher coach prices always have higher first-class prices as well?\n",
        "\n",
        "perc = 0.1\n",
        "flight_sub = flight.sample(n = int(flight.shape[0]*perc))\n",
        " \n",
        "sns.lmplot(x = \"coach_price\", y = \"firstclass_price\", data = flight_sub, line_kws={'color': 'black'}, lowess=True)\n",
        "plt.show()\n",
        "plt.clf()\n"
      ],
      "metadata": {
        "id": "kwF0TcpDAqbC"
      },
      "execution_count": null,
      "outputs": []
    },
    {
      "cell_type": "code",
      "source": [
        "## Task 5\n",
        "# What is the relationship between coach prices and inflight features— inflight meal, inflight entertainment, and inflight WiFi? \n",
        "# Which features are associated with the highest increase in price?\n",
        "\n",
        "#INflight meal\n",
        "sns.histplot(flight, x = \"coach_price\", hue = flight.inflight_meal)\n",
        "plt.show()\n",
        "plt.clf()\n",
        "#INflight entertainment\n",
        "sns.histplot(flight, x = \"coach_price\", hue = flight.inflight_entertainment)\n",
        "plt.show()\n",
        "plt.clf()\n",
        "#INflight wifi\n",
        "sns.histplot(flight, x = \"coach_price\", hue = flight.inflight_wifi)\n",
        "plt.show()\n",
        "plt.clf()\n"
      ],
      "metadata": {
        "id": "jzUNYW7WAt_x"
      },
      "execution_count": null,
      "outputs": []
    },
    {
      "cell_type": "code",
      "source": [
        "## Task 6\n",
        "# How does the number of passengers change in relation to the length of flights?\n",
        "\n",
        "sns.lmplot('passengers', 'miles', data = flight_sub, x_jitter = .15, y_jitter = .15, fit_reg = False)\n",
        "plt.show()\n",
        "plt.clf()"
      ],
      "metadata": {
        "id": "OUnKSBTBAx1b"
      },
      "execution_count": null,
      "outputs": []
    },
    {
      "cell_type": "code",
      "source": [
        "## Task 7\n",
        "# Visualize the relationship between coach and first-class prices on weekends compared to weekdays.\n",
        "\n",
        "sns.lmplot(x = \"coach_price\", y = \"firstclass_price\", hue = \"weekend\", data = flight_sub)\n",
        "plt.show()\n",
        "plt.clf()\n"
      ],
      "metadata": {
        "id": "Jh95RkRiAzlW"
      },
      "execution_count": null,
      "outputs": []
    },
    {
      "cell_type": "code",
      "source": [
        "## Task 8\n",
        "# How do coach prices differ for redeyes and non-redeyes on each day of the week?\n",
        "\n",
        "sns.boxplot(x = \"day_of_week\", y = \"coach_price\", hue = \"redeye\", data = flight)\n",
        "plt.show()\n",
        "plt.clf()"
      ],
      "metadata": {
        "id": "ci1znfLlA1LZ"
      },
      "execution_count": null,
      "outputs": []
    }
  ]
}