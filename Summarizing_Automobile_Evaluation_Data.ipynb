{
  "nbformat": 4,
  "nbformat_minor": 0,
  "metadata": {
    "colab": {
      "name": "Summarizing Automobile Evaluation Data.ipynb",
      "provenance": [],
      "authorship_tag": "ABX9TyMn3u2o/SyT9nI8BzCdqykf",
      "include_colab_link": true
    },
    "kernelspec": {
      "name": "python3",
      "display_name": "Python 3"
    },
    "language_info": {
      "name": "python"
    }
  },
  "cells": [
    {
      "cell_type": "markdown",
      "metadata": {
        "id": "view-in-github",
        "colab_type": "text"
      },
      "source": [
        "<a href=\"https://colab.research.google.com/github/annaqas/codecademy_training/blob/main/Summarizing_Automobile_Evaluation_Data.ipynb\" target=\"_parent\"><img src=\"https://colab.research.google.com/assets/colab-badge.svg\" alt=\"Open In Colab\"/></a>"
      ]
    },
    {
      "cell_type": "markdown",
      "source": [
        "In the following project you’ll use what you’ve learned about summarizing categorical data to analyze a sample from a popular open source dataset. This dataset contains information on the cost and physical attributes of several thousand cars. Originally, this dataset was used for to train a classification model that assigned an acceptability score/category to cars based on these attributes.\n",
        "\n"
      ],
      "metadata": {
        "id": "3ds3Q875NqGu"
      }
    },
    {
      "cell_type": "code",
      "source": [
        "import pandas as pd\n",
        "import numpy as np\n",
        "\n",
        "car_eval = pd.read_csv('car_eval_dataset.csv')\n",
        "print(car_eval.columns)"
      ],
      "metadata": {
        "colab": {
          "base_uri": "https://localhost:8080/"
        },
        "id": "DdHrp0VDOVm6",
        "outputId": "cadeb734-7fef-45ad-db26-a20f993c0806"
      },
      "execution_count": 1,
      "outputs": [
        {
          "output_type": "stream",
          "name": "stdout",
          "text": [
            "Index(['buying_cost', 'maintenance_cost', 'doors', 'capacity', 'luggage',\n",
            "       'safety', 'acceptability', 'manufacturer_country'],\n",
            "      dtype='object')\n"
          ]
        }
      ]
    },
    {
      "cell_type": "markdown",
      "source": [
        "manufacturer_country is a nominal categorical variable that indicates the country of the manufacturer of each car reviewed. Create a table of frequencies of all the cars reviewed by manufacturer_country. What is the modal category? Which country appears 4th most frequently? Print out your results."
      ],
      "metadata": {
        "id": "qht-AufzON_n"
      }
    },
    {
      "cell_type": "code",
      "execution_count": 2,
      "metadata": {
        "colab": {
          "base_uri": "https://localhost:8080/"
        },
        "id": "xBN_vzURNkjy",
        "outputId": "64911af7-585f-47a3-9119-3252d745fc03"
      },
      "outputs": [
        {
          "output_type": "stream",
          "name": "stdout",
          "text": [
            "Japan            228\n",
            "Germany          218\n",
            "South Korea      159\n",
            "United States    138\n",
            "Italy             97\n",
            "France            87\n",
            "China             73\n",
            "Name: manufacturer_country, dtype: int64\n",
            "Japan\n",
            "United States\n"
          ]
        }
      ],
      "source": [
        "country_car = car_eval.manufacturer_country.value_counts()\n",
        "print(country_car)\n",
        "\n",
        "modal_country = country_car.index[0]\n",
        "print(modal_country)\n",
        "\n",
        "country_fourth = country_car.index[3]\n",
        "print(country_fourth)"
      ]
    },
    {
      "cell_type": "markdown",
      "source": [
        "Calculate a table of proportions for countries that appear in manufacturer_country in the dataset. What percentage of cars were manufactured in Japan?"
      ],
      "metadata": {
        "id": "HrKFCciAOp9c"
      }
    },
    {
      "cell_type": "code",
      "source": [
        "prop_countries = country_car / len(car_eval.manufacturer_country)\n",
        "print(prop_countries)\n",
        "porcentage_Japan = '7,3%'"
      ],
      "metadata": {
        "colab": {
          "base_uri": "https://localhost:8080/"
        },
        "id": "b-OFW2zTOg1e",
        "outputId": "4bc382fc-5120-4dbc-9e95-ad6bebab2147"
      },
      "execution_count": 3,
      "outputs": [
        {
          "output_type": "stream",
          "name": "stdout",
          "text": [
            "Japan            0.228\n",
            "Germany          0.218\n",
            "South Korea      0.159\n",
            "United States    0.138\n",
            "Italy            0.097\n",
            "France           0.087\n",
            "China            0.073\n",
            "Name: manufacturer_country, dtype: float64\n"
          ]
        }
      ]
    },
    {
      "cell_type": "markdown",
      "source": [
        "buying_cost is a categorical variable which describes the cost of buying any car in the dataset. Print out a list of the possible values for this variable."
      ],
      "metadata": {
        "id": "XyU4zpTCOwgp"
      }
    },
    {
      "cell_type": "code",
      "source": [
        "print(car_eval.buying_cost.unique())"
      ],
      "metadata": {
        "colab": {
          "base_uri": "https://localhost:8080/"
        },
        "id": "Z2WC7Po4OxYi",
        "outputId": "08c7d9a6-b8e3-45d4-c371-06ccb5a5693a"
      },
      "execution_count": 4,
      "outputs": [
        {
          "output_type": "stream",
          "name": "stdout",
          "text": [
            "['vhigh' 'med' 'low' 'high']\n"
          ]
        }
      ]
    },
    {
      "cell_type": "markdown",
      "source": [
        "buying_cost is an ordinal categorical variable, which means we can create an order associated with the values in the data and perform additional numeric operations on the variable. Create a new list, buying_cost_categories, that contains the unique values in buying_cost, ordered from lowest to highest."
      ],
      "metadata": {
        "id": "zCwQdbbJPB4r"
      }
    },
    {
      "cell_type": "code",
      "source": [
        "buying_cost_categories = ['low', 'med', 'high', 'vhigh']"
      ],
      "metadata": {
        "id": "pNl2LFwyQ9vz"
      },
      "execution_count": 5,
      "outputs": []
    },
    {
      "cell_type": "markdown",
      "source": [
        "Convert buying_cost to type 'category' using the list you created in the previous exercise."
      ],
      "metadata": {
        "id": "PRfVJrlcQaJT"
      }
    },
    {
      "cell_type": "code",
      "source": [
        "car_eval.buying_cost = pd.Categorical(car_eval.buying_cost, buying_cost_categories, ordered=True)"
      ],
      "metadata": {
        "id": "qZy5J_0SQdhZ"
      },
      "execution_count": 6,
      "outputs": []
    },
    {
      "cell_type": "markdown",
      "source": [
        "Calculate the median category of the buying_cost variable and print the result."
      ],
      "metadata": {
        "id": "LYeldoeBRCSW"
      }
    },
    {
      "cell_type": "code",
      "source": [
        "median_buying_cost = np.median(car_eval.buying_cost.cat.codes)\n",
        "print(median_buying_cost)\n",
        "median_category = buying_cost_categories[int(median_buying_cost)]\n",
        "print(median_category)"
      ],
      "metadata": {
        "colab": {
          "base_uri": "https://localhost:8080/"
        },
        "id": "gtcm3cN1S2m5",
        "outputId": "cf179bb0-ad0e-4d0e-ef33-7384bf6ded72"
      },
      "execution_count": 7,
      "outputs": [
        {
          "output_type": "stream",
          "name": "stdout",
          "text": [
            "1.0\n",
            "med\n"
          ]
        }
      ]
    },
    {
      "cell_type": "markdown",
      "source": [
        "luggage is a categorical variable in the car evaluations dataset that records the luggage capacity for each reviewed car. Calculate a table of proportions for this variable and print the result."
      ],
      "metadata": {
        "id": "U6xCS1jFTlNu"
      }
    },
    {
      "cell_type": "code",
      "source": [
        "prop_luggage = car_eval.luggage.value_counts(normalize=True)\n",
        "print(prop_luggage)"
      ],
      "metadata": {
        "colab": {
          "base_uri": "https://localhost:8080/"
        },
        "id": "0m1p40wyTmEm",
        "outputId": "69ded61f-b7a3-4276-a70e-6ae8ab6f15b9"
      },
      "execution_count": 8,
      "outputs": [
        {
          "output_type": "stream",
          "name": "stdout",
          "text": [
            "small    0.339\n",
            "med      0.333\n",
            "big      0.328\n",
            "Name: luggage, dtype: float64\n"
          ]
        }
      ]
    },
    {
      "cell_type": "markdown",
      "source": [
        "Are there any missing values in this column? Replicate the table of proportions from the previous exercise, but do not drop any missing values from the count. Print your result."
      ],
      "metadata": {
        "id": "zXDVzXliUKyZ"
      }
    },
    {
      "cell_type": "code",
      "source": [
        "prop_luggage_2 = car_eval.luggage.value_counts(normalize=True, dropna=False)\n",
        "print(prop_luggage_2)"
      ],
      "metadata": {
        "colab": {
          "base_uri": "https://localhost:8080/"
        },
        "id": "P9HiDLaEUN7g",
        "outputId": "a8200c56-b705-4b03-ca90-6e482851ccba"
      },
      "execution_count": 9,
      "outputs": [
        {
          "output_type": "stream",
          "name": "stdout",
          "text": [
            "small    0.339\n",
            "med      0.333\n",
            "big      0.328\n",
            "Name: luggage, dtype: float64\n"
          ]
        }
      ]
    },
    {
      "cell_type": "markdown",
      "source": [
        "Without passing normalize = True to .value_counts(), can you replicate the result you got in the previous exercises?"
      ],
      "metadata": {
        "id": "TJM0WJnTUgG8"
      }
    },
    {
      "cell_type": "code",
      "source": [
        "prop_luggage_3 = car_eval.luggage.value_counts() / len(car_eval.luggage)\n",
        "print(prop_luggage_3)"
      ],
      "metadata": {
        "colab": {
          "base_uri": "https://localhost:8080/"
        },
        "id": "8q6-MPPAUg5e",
        "outputId": "43078daa-ed67-4c85-c7e5-38b1fd5470eb"
      },
      "execution_count": 10,
      "outputs": [
        {
          "output_type": "stream",
          "name": "stdout",
          "text": [
            "small    0.339\n",
            "med      0.333\n",
            "big      0.328\n",
            "Name: luggage, dtype: float64\n"
          ]
        }
      ]
    },
    {
      "cell_type": "markdown",
      "source": [
        "doors is a categorical variable in the car evaluations dataset that records the count of doors for each reviewed car. Find the count of cars that have 5 or more doors. You can identify cars with 5+ doors by looking for cars that have a value of '5more' in the doors column. Print your result."
      ],
      "metadata": {
        "id": "cE7Z8bpbVL2Q"
      }
    },
    {
      "cell_type": "code",
      "source": [
        "print(car_eval.doors.unique())\n",
        "five_more_doors = np.sum(car_eval.doors =='5more')\n",
        "print(five_more_doors)"
      ],
      "metadata": {
        "colab": {
          "base_uri": "https://localhost:8080/"
        },
        "id": "n0bUzt4CVMfR",
        "outputId": "87027d6f-8349-4ce5-c1b4-4ab7c59bac9a"
      },
      "execution_count": 11,
      "outputs": [
        {
          "output_type": "stream",
          "name": "stdout",
          "text": [
            "['4' '3' '2' '5more']\n",
            "246\n"
          ]
        }
      ]
    },
    {
      "cell_type": "markdown",
      "source": [
        "Find the proportion of cars that have 5+ doors and print the result."
      ],
      "metadata": {
        "id": "rWVELKX9VoQo"
      }
    },
    {
      "cell_type": "code",
      "source": [
        "prop_five_more_doors = np.mean(car_eval.doors == '5more')\n",
        "print(prop_five_more_doors)"
      ],
      "metadata": {
        "colab": {
          "base_uri": "https://localhost:8080/"
        },
        "id": "yS8kB-1JVo5N",
        "outputId": "ee09030d-3583-406b-ba7a-761802e0fe5d"
      },
      "execution_count": 12,
      "outputs": [
        {
          "output_type": "stream",
          "name": "stdout",
          "text": [
            "0.246\n"
          ]
        }
      ]
    }
  ]
}