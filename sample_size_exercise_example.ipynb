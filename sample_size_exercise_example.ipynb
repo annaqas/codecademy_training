{
  "nbformat": 4,
  "nbformat_minor": 0,
  "metadata": {
    "colab": {
      "name": "sample_size_exercise_example.ipynb",
      "provenance": [],
      "authorship_tag": "ABX9TyN23eXdAj/E1uxg/83r+ViS",
      "include_colab_link": true
    },
    "kernelspec": {
      "name": "python3",
      "display_name": "Python 3"
    },
    "language_info": {
      "name": "python"
    }
  },
  "cells": [
    {
      "cell_type": "markdown",
      "metadata": {
        "id": "view-in-github",
        "colab_type": "text"
      },
      "source": [
        "<a href=\"https://colab.research.google.com/github/annaqas/projects_codecademy/blob/main/sample_size_exercise_example.ipynb\" target=\"_parent\"><img src=\"https://colab.research.google.com/assets/colab-badge.svg\" alt=\"Open In Colab\"/></a>"
      ]
    },
    {
      "cell_type": "code",
      "execution_count": null,
      "metadata": {
        "id": "-GemJ36Ugu8G"
      },
      "outputs": [],
      "source": [
        "import numpy as np\n",
        "import pandas as pd\n",
        "from scipy.stats import chi2_contingency\n",
        "\n",
        "# preset values\n",
        "significance_threshold = 0.05\n",
        "sample_size = 100\n",
        "lift = .3\n",
        "control_rate = .5\n",
        "name_rate = (1 + lift) * control_rate\n",
        "\n",
        "# initialize an empty list of results\n",
        "results = []\n",
        "\n",
        "# start the loop\n",
        "for i in range(100):\n",
        "  # simulate data:\n",
        "  sample_control = np.random.choice(['yes', 'no'],  size=int(sample_size/2), p=[control_rate, 1-control_rate])\n",
        "  sample_name = np.random.choice(['yes', 'no'], size=int(sample_size/2), p=[name_rate, 1-name_rate])\n",
        "  group = ['control']*int(sample_size/2) + ['name']*int(sample_size/2)\n",
        "  outcome = list(sample_control) + list(sample_name)\n",
        "  sim_data = {\"Email\": group, \"Opened\": outcome}\n",
        "  sim_data = pd.DataFrame(sim_data)\n",
        "\n",
        "  # run the test\n",
        "  ab_contingency = pd.crosstab(np.array(sim_data.Email), np.array(sim_data.Opened))\n",
        "  chi2, pval, dof, expected = chi2_contingency(ab_contingency)\n",
        "  result = ('significant' if pval < significance_threshold else 'not significant')\n",
        "\n",
        "  # append the result to our results list:\n",
        "  results.append(result)\n",
        "\n",
        "# calculate proportion of significant results:\n",
        "print(\"Proportion of significant results:\")\n",
        "results =  np.array(results)\n",
        "print(np.sum(results == 'significant')/100)"
      ]
    }
  ]
}