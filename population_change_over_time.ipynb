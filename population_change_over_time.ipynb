{
  "nbformat": 4,
  "nbformat_minor": 0,
  "metadata": {
    "colab": {
      "name": "population change over time.ipynb",
      "provenance": [],
      "collapsed_sections": [],
      "authorship_tag": "ABX9TyMMUxmn1JdxjCSMJknjF9tE",
      "include_colab_link": true
    },
    "kernelspec": {
      "name": "python3",
      "display_name": "Python 3"
    },
    "language_info": {
      "name": "python"
    }
  },
  "cells": [
    {
      "cell_type": "markdown",
      "metadata": {
        "id": "view-in-github",
        "colab_type": "text"
      },
      "source": [
        "<a href=\"https://colab.research.google.com/github/annaqas/projects_codecademy/blob/main/population_change_over_time.ipynb\" target=\"_parent\"><img src=\"https://colab.research.google.com/assets/colab-badge.svg\" alt=\"Open In Colab\"/></a>"
      ]
    },
    {
      "cell_type": "code",
      "execution_count": 2,
      "metadata": {
        "colab": {
          "base_uri": "https://localhost:8080/"
        },
        "id": "XOcEOzQ_O5ue",
        "outputId": "a85961c8-45f8-46a7-c856-ba9f844c9b74"
      },
      "outputs": [
        {
          "output_type": "stream",
          "name": "stdout",
          "text": [
            "23.055525004019934\n",
            "23.055525004019934\n",
            "15.969074262461852\n",
            "The change population in Istambul grow from 691000 to 15029231 with a total of 14338231. The annual % gr as 23.055525004019934\n"
          ]
        }
      ],
      "source": [
        "# Python Function exercise in Visualize data with Python\n",
        "\n",
        "pop_1927 = 691000\n",
        "pop_2017 = 15029231\n",
        "\n",
        "pop_change = pop_2017 - pop_1927\n",
        "\n",
        "percentage_gr = (pop_change/pop_1927) * 100\n",
        "\n",
        "annual_gr = percentage_gr / (2017-1927)\n",
        "\n",
        "print(annual_gr)\n",
        "\n",
        "def population_growth(year_one, year_two, population_one, population_two):\n",
        "  pop_change = population_two - population_one\n",
        "  percentage_gr = (pop_change/population_one) * 100\n",
        "  growth_rate = percentage_gr / (year_two - year_one)\n",
        "  return growth_rate\n",
        "\n",
        "set_one = population_growth(1927, 2017, pop_1927, pop_2017)\n",
        "print(set_one)\n",
        "\n",
        "set_two = population_growth(1950, 2000, 983000, 8831800)\n",
        "print(set_two)\n",
        "\n",
        "report = 'The change population in Istambul grow from ' + str(pop_1927) + ' to ' + str(pop_2017) + ' with a total of ' + str(pop_change) + '. The annual % gr as ' + str(annual_gr)\n",
        "\n",
        "print(report)"
      ]
    }
  ]
}