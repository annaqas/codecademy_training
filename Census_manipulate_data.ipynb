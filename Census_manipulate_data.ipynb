{
  "nbformat": 4,
  "nbformat_minor": 0,
  "metadata": {
    "colab": {
      "name": "Census_manipulate_data.ipynb",
      "provenance": [],
      "authorship_tag": "ABX9TyN/A9/vpH3Q3TxbU6V8RcvK",
      "include_colab_link": true
    },
    "kernelspec": {
      "name": "python3",
      "display_name": "Python 3"
    },
    "language_info": {
      "name": "python"
    }
  },
  "cells": [
    {
      "cell_type": "markdown",
      "metadata": {
        "id": "view-in-github",
        "colab_type": "text"
      },
      "source": [
        "<a href=\"https://colab.research.google.com/github/annaqas/codecademy_training/blob/main/Census_manipulate_data.ipynb\" target=\"_parent\"><img src=\"https://colab.research.google.com/assets/colab-badge.svg\" alt=\"Open In Colab\"/></a>"
      ]
    },
    {
      "cell_type": "code",
      "execution_count": 1,
      "metadata": {
        "id": "gnbcupt5oVVi"
      },
      "outputs": [],
      "source": [
        "import pandas as pd"
      ]
    },
    {
      "cell_type": "markdown",
      "source": [
        "Read census data frame"
      ],
      "metadata": {
        "id": "BB-yjMVOohGq"
      }
    },
    {
      "cell_type": "code",
      "source": [
        "census = pd.read_csv('census_data.csv', index_col=0)\n",
        "print(census(head()))\n",
        "print(census.dtypes)\n"
      ],
      "metadata": {
        "id": "P87mq3keokOF"
      },
      "execution_count": null,
      "outputs": []
    }
  ]
}