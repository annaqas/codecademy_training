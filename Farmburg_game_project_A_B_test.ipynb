{
  "nbformat": 4,
  "nbformat_minor": 0,
  "metadata": {
    "colab": {
      "name": "Farmburg_game project A/B test.ipynb",
      "provenance": [],
      "authorship_tag": "ABX9TyMMmsskfyTz1R3ArMzsIbpi",
      "include_colab_link": true
    },
    "kernelspec": {
      "name": "python3",
      "display_name": "Python 3"
    },
    "language_info": {
      "name": "python"
    }
  },
  "cells": [
    {
      "cell_type": "markdown",
      "metadata": {
        "id": "view-in-github",
        "colab_type": "text"
      },
      "source": [
        "<a href=\"https://colab.research.google.com/github/annaqas/projects_codecademy/blob/main/Farmburg_game_project_A_B_test.ipynb\" target=\"_parent\"><img src=\"https://colab.research.google.com/assets/colab-badge.svg\" alt=\"Open In Colab\"/></a>"
      ]
    },
    {
      "cell_type": "code",
      "execution_count": null,
      "metadata": {
        "id": "j_k4dQtRs4bd"
      },
      "outputs": [],
      "source": [
        "# Import libraries\n",
        "import codecademylib3\n",
        "import pandas as pd\n",
        "import numpy as np\n",
        "\n",
        "# Read in the `clicks.csv` file as `abdata`\n",
        "abdata = pd.read_csv('clicks.csv')\n",
        "\n",
        "print(abdata.head())\n",
        "\n",
        "Xtab = pd.crosstab(abdata.group, abdata.is_purchase)\n",
        "print(Xtab)\n",
        "print('The A group have the highest number of purchase - 316')\n",
        "\n",
        "from scipy.stats import chi2_contingency\n",
        "chi2, pval, dof, expected = chi2_contingency(Xtab)\n",
        "print(pval)\n",
        "#pval <0.05\n",
        "print('There is a significant difference in the purchase rate between groups')\n",
        "\n",
        "# Problem to solve: whether each price point allows us to make enough money that we can exceed some target goal.\n",
        "\n",
        "#number of visitors\n",
        "num_visits = len(abdata.user_id)\n",
        "print(num_visits)\n",
        "\n",
        "#number of visitors who would need to purchase the upgrade package at each price point ($0.99, $1.99, $4.99)\n",
        "num_sales_needed_099 = np.ceil(1000/0.99)\n",
        "print(num_sales_needed_099)\n",
        "p_sales_needed_099 = num_sales_needed_099 /  num_visits\n",
        "print(p_sales_needed_099)\n",
        "\n",
        "num_sales_needed_199 = np.ceil(1000/1.99)\n",
        "print(num_sales_needed_199)\n",
        "p_sales_needed_199 = num_sales_needed_199 /  num_visits\n",
        "print(p_sales_needed_199)\n",
        "\n",
        "num_sales_needed_499 = np.ceil(1000/4.99)\n",
        "print(num_sales_needed_499)\n",
        "p_sales_needed_499 = num_sales_needed_499 /  num_visits\n",
        "print(p_sales_needed_499)\n",
        "\n",
        "#Group A - package at $0.99\n",
        "sample_size_099 = np.sum(abdata.group == 'A')\n",
        "print(sample_size_099)\n",
        "sales_099 = np.sum((abdata.group == 'A') & (abdata.is_purchase == 'Yes'))\n",
        "print(sales_099)\n",
        "\n",
        "#Group B - package at $1.99\n",
        "sample_size_199 = np.sum(abdata.group == 'B')\n",
        "print(sample_size_199)\n",
        "sales_199 = np.sum((abdata.group == 'B') & (abdata.is_purchase == 'Yes'))\n",
        "print(sales_199)\n",
        "\n",
        "#Group C - package at $4.99\n",
        "sample_size_499 = np.sum(abdata.group == 'C')\n",
        "print(sample_size_499)\n",
        "sales_499 = np.sum((abdata.group == 'C') & (abdata.is_purchase == 'Yes'))\n",
        "print(sales_499)\n",
        "\n",
        "from scipy.stats import binom_test\n",
        "pvalueA = binom_test(sales_099, n=sample_size_099, p=p_sales_needed_099, alternative = 'greater')\n",
        "print(pvalueA)\n",
        "\n",
        "pvalueB = binom_test(sales_199, n=sample_size_199, p=p_sales_needed_199, alternative = 'greater')\n",
        "print(pvalueB)\n",
        "\n",
        "pvalueC = binom_test(sales_499, n=sample_size_499, p=p_sales_needed_499, alternative = 'greater')\n",
        "print(pvalueC)\n",
        "\n",
        "print('Based on the three p-values calculated for the binomial tests, considered a significance threshold of 0.05, C group have the purchase rate significantly higher than the target - p=0.02964')"
      ]
    }
  ]
}