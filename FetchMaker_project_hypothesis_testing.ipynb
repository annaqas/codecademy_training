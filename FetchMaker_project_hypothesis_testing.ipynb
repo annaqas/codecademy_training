{
  "nbformat": 4,
  "nbformat_minor": 0,
  "metadata": {
    "colab": {
      "name": "FetchMaker project - hypothesis testing.ipynb",
      "provenance": [],
      "authorship_tag": "ABX9TyOybuSA18Fxov0EKbDNfM2u",
      "include_colab_link": true
    },
    "kernelspec": {
      "name": "python3",
      "display_name": "Python 3"
    },
    "language_info": {
      "name": "python"
    }
  },
  "cells": [
    {
      "cell_type": "markdown",
      "metadata": {
        "id": "view-in-github",
        "colab_type": "text"
      },
      "source": [
        "<a href=\"https://colab.research.google.com/github/annaqas/projects_codecademy/blob/main/FetchMaker_project_hypothesis_testing.ipynb\" target=\"_parent\"><img src=\"https://colab.research.google.com/assets/colab-badge.svg\" alt=\"Open In Colab\"/></a>"
      ]
    },
    {
      "cell_type": "code",
      "execution_count": null,
      "metadata": {
        "id": "AayuW5Sdjoi6"
      },
      "outputs": [],
      "source": [
        "# Import libraries\n",
        "import numpy as np\n",
        "import pandas as pd\n",
        "import codecademylib3\n",
        "\n",
        "# Import data\n",
        "dogs = pd.read_csv('dog_data.csv')\n",
        "\n",
        "#inspect dataframe\n",
        "print(dogs.head())\n",
        "\n",
        "#store whippet dogs\n",
        "whippet_rescue = dogs.is_rescue[dogs.breed == 'whippet']\n",
        "num_whippet_rescues = np.sum(whippet_rescue)\n",
        "print('The number of whippet was rescue is:')\n",
        "print(num_whippet_rescues)\n",
        "num_whippets = len(whippet_rescue)\n",
        "print('The number of whippets in dataframe is:')\n",
        "print(num_whippets)\n",
        "\n",
        "#null: 0.08 whippets are rescues\n",
        "#alternative: more or less than 0.08 of whippets are rescues\n",
        "from scipy.stats import binom_test\n",
        "# calculate p_value_2sided\n",
        "pval = binom_test(num_whippet_rescues, num_whippets, .08)\n",
        "print(pval)\n",
        "# 0.58\n",
        "print('The proportion of whippets who rescues isn´t significantly different from 8%')\n",
        "\n",
        "#significant difference in the average of three dog breeds\n",
        "wt_whippets = dogs.weight[dogs.breed == 'whippet']\n",
        "\n",
        "wt_terriers = dogs.weight[dogs.breed == 'terrier']\n",
        "\n",
        "wt_pitbulls = dogs.weight[dogs.breed == 'pitbull']\n",
        "\n",
        "#null: three dogs have the same weight amount on average\n",
        "#alternative: three dogs do not have the same weight amount on average (at least one pair of breeds has differing average weights)\n",
        "from scipy.stats import f_oneway\n",
        "Fstat, pval = f_oneway(wt_whippets, wt_terriers, wt_pitbulls)\n",
        "print(pval)\n",
        "#pval < 0.05\n",
        "print('There is at least one pair of dog breeds that have significantly different average weights')\n",
        "\n",
        "# Subset to just whippets, terriers, and pitbulls\n",
        "dogs_wtp = dogs[dogs.breed.isin(['whippet', 'terrier', 'pitbull'])]\n",
        "\n",
        "from statsmodels.stats.multicomp import pairwise_tukeyhsd\n",
        "tukey_results = pairwise_tukeyhsd(dogs_wtp.weight, dogs_wtp.breed, 0.05)\n",
        "print(tukey_results)\n",
        "print('The pairs of dogs breeds weigh that have different amounts are pitbull-terrier and terrier-whippet')\n",
        "\n",
        "import seaborn as sns\n",
        "import matplotlib.pyplot as plt\n",
        "sns.boxplot(data = dogs_wtp, x = 'breed', y = 'weight')\n",
        "plt.show()\n",
        "\n",
        "# Subset to just poodles and shihtzus\n",
        "dogs_ps = dogs[dogs.breed.isin(['poodle', 'shihtzu'])]\n",
        "\n",
        "Xtab = pd.crosstab(dogs_ps.color, dogs_ps.breed)\n",
        "print(Xtab)\n",
        "\n",
        "#null: there is association between breed and color\n",
        "#alternative: there is not an association between breed and color\n",
        "from scipy.stats import chi2_contingency\n",
        "chi2, pval, dof, expected = chi2_contingency(Xtab)\n",
        "print(pval)\n",
        "#pval < 0.05\n",
        "print('There is a significant association between breed and color')"
      ]
    }
  ]
}